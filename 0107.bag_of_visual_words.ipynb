{
 "cells": [
  {
   "cell_type": "markdown",
   "metadata": {
    "jp-MarkdownHeadingCollapsed": true
   },
   "source": [
    "# 0. Env"
   ]
  },
  {
   "cell_type": "code",
   "execution_count": null,
   "metadata": {},
   "outputs": [],
   "source": [
    "import cv2\n",
    "import numpy as np\n",
    "from tqdm.auto import tqdm, trange\n",
    "\n",
    "from scipy.cluster.vq import kmeans, vq\n",
    "\n",
    "from datasets import load_dataset, VerificationMode\n",
    "\n",
    "import matplotlib.pyplot as plt"
   ]
  },
  {
   "cell_type": "markdown",
   "metadata": {
    "jp-MarkdownHeadingCollapsed": true
   },
   "source": [
    "# 1. Bag of Visual Words\n",
    "- 참고: https://www.pinecone.io/learn/series/image-search/bag-of-visual-words/"
   ]
  },
  {
   "cell_type": "code",
   "execution_count": null,
   "metadata": {},
   "outputs": [],
   "source": [
    "# 데이터 로딩\n",
    "data = load_dataset(\n",
    "    'frgfm/imagenette',\n",
    "    'full_size',\n",
    "    split='train',\n",
    "    verification_mode=VerificationMode.NO_CHECKS\n",
    ")"
   ]
  },
  {
   "cell_type": "code",
   "execution_count": null,
   "metadata": {},
   "outputs": [],
   "source": [
    "# 데이터 확인\n",
    "data"
   ]
  },
  {
   "cell_type": "code",
   "execution_count": null,
   "metadata": {},
   "outputs": [],
   "source": [
    "# 첫번째 데이터 확인\n",
    "data[0]"
   ]
  },
  {
   "cell_type": "code",
   "execution_count": null,
   "metadata": {},
   "outputs": [],
   "source": [
    "# BoW를 학습할 이미지\n",
    "images_training = []\n",
    "\n",
    "# 흑백으로 변환해서 확인 (컬러는 너무 많은 리소스를 필요로 함)\n",
    "# 시간이 너무 오래 걸려서 1000개만 확인\n",
    "for i in trange(1000):\n",
    "    img = np.array(data[i]['image'])\n",
    "    if len(img.shape) == 3:  # BGR 컬러는 흑백으로\n",
    "        images_training.append(cv2.cvtColor(img, cv2.COLOR_BGR2GRAY))\n",
    "    else:\n",
    "        images_training.append(img)\n",
    "\n",
    "len(data), len(images_training)"
   ]
  },
  {
   "cell_type": "code",
   "execution_count": null,
   "metadata": {},
   "outputs": [],
   "source": [
    "# 이미지 확인\n",
    "print(images_training[264].shape)\n",
    "plt.imshow(images_training[264], cmap='gray')\n",
    "plt.show()"
   ]
  },
  {
   "cell_type": "code",
   "execution_count": null,
   "metadata": {},
   "outputs": [],
   "source": [
    "# 이미지 확인\n",
    "print(images_training[874].shape)\n",
    "plt.imshow(images_training[874], cmap='gray')\n",
    "plt.show()"
   ]
  },
  {
   "cell_type": "code",
   "execution_count": null,
   "metadata": {},
   "outputs": [],
   "source": [
    "# feature extractor (SIFT)\n",
    "extractor = cv2.xfeatures2d.SIFT_create()"
   ]
  },
  {
   "cell_type": "code",
   "execution_count": null,
   "metadata": {},
   "outputs": [],
   "source": [
    "# SIFT 특징 추출 (keypoints, descriptors)\n",
    "keypoints = []\n",
    "descriptors = []\n",
    "\n",
    "for img in tqdm(images_training):\n",
    "    img_keypoints, img_descriptors = extractor.detectAndCompute(img, None)\n",
    "    keypoints.append(img_keypoints)\n",
    "    descriptors.append(img_descriptors)"
   ]
  },
  {
   "cell_type": "code",
   "execution_count": null,
   "metadata": {},
   "outputs": [],
   "source": [
    "# 결과 확인\n",
    "keypoints[0][0].pt, descriptors[0][0]"
   ]
  },
  {
   "cell_type": "code",
   "execution_count": null,
   "metadata": {},
   "outputs": [],
   "source": [
    "# 이미지와 keypoints 출력\n",
    "for i in range(3):\n",
    "    output_image = cv2.drawKeypoints(images_training[i],\n",
    "                                     keypoints[i],\n",
    "                                     0,\n",
    "                                     (255, 0, 0),\n",
    "                                     flags=cv2.DRAW_MATCHES_FLAGS_DRAW_RICH_KEYPOINTS)\n",
    "    plt.imshow(output_image)\n",
    "    plt.show()"
   ]
  },
  {
   "cell_type": "code",
   "execution_count": null,
   "metadata": {},
   "outputs": [],
   "source": [
    "# 상황 재현을 위한 random seed 설정\n",
    "np.random.seed(0)\n",
    "# 500개 이미지 랜던 선택\n",
    "sample_idx = np.random.randint(0, len(images_training), 500).tolist()\n",
    "\n",
    "# 선택된 이미지의 descriptors\n",
    "descriptors_sample = []\n",
    "\n",
    "for i in sample_idx:\n",
    "    descriptors_sample.append(descriptors[i])"
   ]
  },
  {
   "cell_type": "code",
   "execution_count": null,
   "metadata": {},
   "outputs": [],
   "source": [
    "# 선택된 descriptors를 하나의 벡터로 통합\n",
    "all_descriptors = []\n",
    "for img_descriptors in descriptors_sample:\n",
    "    for descriptor in img_descriptors:\n",
    "        all_descriptors.append(descriptor)\n",
    "all_descriptors = np.stack(all_descriptors)\n",
    "all_descriptors.shape"
   ]
  },
  {
   "cell_type": "code",
   "execution_count": null,
   "metadata": {},
   "outputs": [],
   "source": [
    "# cluster to 100 (100개의 keypoints(단어)로 cluster)\n",
    "k = 100\n",
    "iters = 1\n",
    "codebook, variance = kmeans(all_descriptors, k, iters)\n",
    "codebook.shape, variance"
   ]
  },
  {
   "cell_type": "code",
   "execution_count": null,
   "metadata": {},
   "outputs": [],
   "source": [
    "# 각 이미지의 descriptor를 가장 가까운 codebook으로 할당 (visual word)\n",
    "visual_words = []\n",
    "for img_descriptors in descriptors:\n",
    "    img_visual_words, distance = vq(img_descriptors, codebook)\n",
    "    visual_words.append(img_visual_words)"
   ]
  },
  {
   "cell_type": "code",
   "execution_count": null,
   "metadata": {},
   "outputs": [],
   "source": [
    "# visual word 확인\n",
    "visual_words[0][:5], len(visual_words[0])"
   ]
  },
  {
   "cell_type": "code",
   "execution_count": null,
   "metadata": {},
   "outputs": [],
   "source": [
    "# Term Frequeney 계산\n",
    "term_frequency = []\n",
    "for img_visual_words in visual_words:\n",
    "    # Term이 0인 벡터 생성\n",
    "    img_frequency_vector = np.zeros(k)\n",
    "    for word in img_visual_words:\n",
    "        img_frequency_vector[word] += 1  # Term 발생 빈도 증가\n",
    "    term_frequency.append(img_frequency_vector)\n",
    "# 하나의 벡터로 통합\n",
    "frequency_vectors = np.stack(term_frequency)"
   ]
  },
  {
   "cell_type": "code",
   "execution_count": null,
   "metadata": {},
   "outputs": [],
   "source": [
    "# 통합퇸 벡터의 shape\n",
    "frequency_vectors.shape"
   ]
  },
  {
   "cell_type": "code",
   "execution_count": null,
   "metadata": {},
   "outputs": [],
   "source": [
    "# 첫번째 이미지 TF 값 20개만 확인\n",
    "frequency_vectors[0][:20]"
   ]
  },
  {
   "cell_type": "code",
   "execution_count": null,
   "metadata": {},
   "outputs": [],
   "source": [
    "# 첫번째 이미지 TF 학인\n",
    "plt.bar(list(range(k)), frequency_vectors[0])\n",
    "plt.show()"
   ]
  },
  {
   "cell_type": "code",
   "execution_count": null,
   "metadata": {},
   "outputs": [],
   "source": [
    "# 이미지 숫자 (문서 수)\n",
    "N = len(frequency_vectors)\n",
    "\n",
    "# DF 계산\n",
    "df = np.sum(frequency_vectors > 0, axis=0)"
   ]
  },
  {
   "cell_type": "code",
   "execution_count": null,
   "metadata": {},
   "outputs": [],
   "source": [
    "# 결과 확인\n",
    "df.shape, df[:5]"
   ]
  },
  {
   "cell_type": "code",
   "execution_count": null,
   "metadata": {},
   "outputs": [],
   "source": [
    "# IDF 계산\n",
    "idf = np.log(N/ df)\n",
    "idf.shape, idf[:5]"
   ]
  },
  {
   "cell_type": "code",
   "execution_count": null,
   "metadata": {},
   "outputs": [],
   "source": [
    "# TF-IDF 계산\n",
    "tfidf = frequency_vectors * idf\n",
    "tfidf.shape, tfidf[0][:5]"
   ]
  },
  {
   "cell_type": "code",
   "execution_count": null,
   "metadata": {},
   "outputs": [],
   "source": [
    "# 첫번째 이미지 TF-IDF\n",
    "plt.bar(list(range(k)), tfidf[0])\n",
    "plt.show()"
   ]
  },
  {
   "cell_type": "code",
   "execution_count": null,
   "metadata": {},
   "outputs": [],
   "source": [
    "# 이미지 검색\n",
    "top_k = 5\n",
    "i = 994\n",
    "\n",
    "# query 이미지 벡터\n",
    "a = tfidf[i]\n",
    "# 전체 이미지 벡터\n",
    "b = tfidf\n",
    "# 코싸인 유사도 계산\n",
    "cosine_similarity = np.dot(a, b.T)/(np.linalg.norm(a) * np.linalg.norm(b, axis=1))\n",
    "# 유사도가 큰 값부터 정렬\n",
    "idx = np.argsort(-cosine_similarity)[:top_k]\n",
    "# 결과 출력\n",
    "for i in idx:\n",
    "    print(f\"{i}: {round(cosine_similarity[i], 4)}\")\n",
    "    plt.imshow(images_training[i], cmap='gray')\n",
    "    plt.show()"
   ]
  },
  {
   "cell_type": "code",
   "execution_count": null,
   "metadata": {},
   "outputs": [],
   "source": []
  }
 ],
 "metadata": {
  "kernelspec": {
   "display_name": "Python 3 (ipykernel)",
   "language": "python",
   "name": "python3"
  },
  "language_info": {
   "codemirror_mode": {
    "name": "ipython",
    "version": 3
   },
   "file_extension": ".py",
   "mimetype": "text/x-python",
   "name": "python",
   "nbconvert_exporter": "python",
   "pygments_lexer": "ipython3",
   "version": "3.9.19"
  }
 },
 "nbformat": 4,
 "nbformat_minor": 4
}
