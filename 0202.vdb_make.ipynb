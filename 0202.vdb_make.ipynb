{
 "cells": [
  {
   "cell_type": "markdown",
   "metadata": {
    "jp-MarkdownHeadingCollapsed": true
   },
   "source": [
    "# 0. Env"
   ]
  },
  {
   "cell_type": "code",
   "execution_count": null,
   "metadata": {},
   "outputs": [],
   "source": [
    "import os\n",
    "import glob\n",
    "import json\n",
    "\n",
    "import numpy as np\n",
    "\n",
    "from sentence_transformers import SentenceTransformer\n",
    "from transformers import AutoTokenizer\n",
    "\n",
    "import faiss\n",
    "import chromadb"
   ]
  },
  {
   "cell_type": "code",
   "execution_count": null,
   "metadata": {},
   "outputs": [],
   "source": [
    "# 데이터를 저장할 경로\n",
    "data_home = \"data\""
   ]
  },
  {
   "cell_type": "markdown",
   "metadata": {
    "jp-MarkdownHeadingCollapsed": true
   },
   "source": [
    "# 1. Wiki 데이터 준비"
   ]
  },
  {
   "cell_type": "code",
   "execution_count": null,
   "metadata": {},
   "outputs": [],
   "source": [
    "# 데이터 폴더 생성\n",
    "os.makedirs(data_home, exist_ok=True)"
   ]
  },
  {
   "cell_type": "code",
   "execution_count": null,
   "metadata": {},
   "outputs": [],
   "source": [
    "# 최신 wiki dump 다운로드\n",
    "!wget https://dumps.wikimedia.org/kowiki/latest/kowiki-latest-pages-articles.xml.bz2 \\\n",
    "    -O ./{data_home}/kowiki-latest-pages-articles.xml.bz2"
   ]
  },
  {
   "cell_type": "code",
   "execution_count": null,
   "metadata": {},
   "outputs": [],
   "source": [
    "# wiki dump 파일 전처리\n",
    "# 시간이 오래 걸립니다.\n",
    "!/home/kysman/venvs/gen-ai/bin/python \\\n",
    "    -m wikiextractor.WikiExtractor \\\n",
    "    --json \\\n",
    "    --out ./{data_home}/kowiki \\\n",
    "    ./{data_home}/kowiki-latest-pages-articles.xml.bz2"
   ]
  },
  {
   "cell_type": "code",
   "execution_count": null,
   "metadata": {},
   "outputs": [],
   "source": [
    "# 파일 목록 확인\n",
    "fn_list = glob.glob(f'{data_home}/kowiki/*/*')\n",
    "fn_list.sort()\n",
    "fn_list[:10]"
   ]
  },
  {
   "cell_type": "code",
   "execution_count": null,
   "metadata": {},
   "outputs": [],
   "source": [
    "# wiki 1개 페이지만 확인\n",
    "with open(fn_list[0]) as f:\n",
    "    for line in f:\n",
    "        page = json.loads(line)\n",
    "        print(page)\n",
    "        print(page['title'])\n",
    "        print(page['text'])\n",
    "        break"
   ]
  },
  {
   "cell_type": "code",
   "execution_count": null,
   "metadata": {},
   "outputs": [],
   "source": [
    "def make_chunk(text, n_word=128):\n",
    "    # line 단위로 단어수 계산\n",
    "    line_list = []\n",
    "    total = 0\n",
    "    for line in text.split('\\n'):\n",
    "        total += len(line.split())\n",
    "        line_list.append((total, line))\n",
    "    # n_word 단위로 분할\n",
    "    chunk_list = []\n",
    "    chunk_total, chunk_index = 0, 0\n",
    "    for i, (total, line) in enumerate(line_list):\n",
    "        if total - chunk_total >= n_word:\n",
    "            chunk = [line for total, line in line_list[chunk_index:i+1]]\n",
    "            chunk_list.append('\\n'.join(chunk))\n",
    "            chunk_index = i + 1\n",
    "            chunk_total = total\n",
    "    # 마지막 line 추가 (n_word 보다 작은 경우 이전라인 포함)\n",
    "    if total > chunk_total:\n",
    "        if total - chunk_total < n_word and chunk_index > 1:\n",
    "            chunk_index -= 1\n",
    "        chunk = [line for total, line in line_list[chunk_index:]]\n",
    "        chunk_list.append('\\n'.join(chunk))\n",
    "    return chunk_list"
   ]
  },
  {
   "cell_type": "code",
   "execution_count": null,
   "metadata": {},
   "outputs": [],
   "source": [
    "# 기능 확인을 위해서 문서를 chunk 단위로 분할해서 row_list에 저장\n",
    "# 이유는 각 페이지의 문서의 길이가 너무 다르기 때문에 적당한 길이로 페이지를 분할\n",
    "row_list = []\n",
    "for fn in fn_list[:100]:  # 100개 파일만 사용 (1만개 위키 페이지)\n",
    "    with open(fn) as f:\n",
    "        for line in f:\n",
    "            data = json.loads(line)\n",
    "            chunk_list = make_chunk(data['text'])\n",
    "            for i, chunk in enumerate(chunk_list):\n",
    "                title = data['title']\n",
    "                row = {\n",
    "                    'id': data['id'],\n",
    "                    'chunk_id': str(i + 1),\n",
    "                    'chunk': f\"{title}\\n{chunk}\"\n",
    "                }\n",
    "                print(row)\n",
    "                row_list.append(row)\n",
    "len(row_list)"
   ]
  },
  {
   "cell_type": "code",
   "execution_count": null,
   "metadata": {},
   "outputs": [],
   "source": [
    "# chunk를 저장합니다.\n",
    "with open(\"data/chunk_db.json\", \"w\") as f:\n",
    "    for row in row_list:\n",
    "        f.write(json.dumps(row, ensure_ascii=False))\n",
    "        f.write(\"\\n\")"
   ]
  },
  {
   "cell_type": "code",
   "execution_count": null,
   "metadata": {},
   "outputs": [],
   "source": [
    "# chunk 내용을 확인합니다.\n",
    "!head -n 5 ./data/chunk_db.json"
   ]
  },
  {
   "cell_type": "markdown",
   "metadata": {
    "jp-MarkdownHeadingCollapsed": true
   },
   "source": [
    "# 2. 임베딩 만들기 (Sentence Bert)"
   ]
  },
  {
   "cell_type": "code",
   "execution_count": null,
   "metadata": {},
   "outputs": [],
   "source": [
    "# SentenceBERT 모델 생성\n",
    "model = SentenceTransformer('snunlp/KR-SBERT-V40K-klueNLI-augSTS')"
   ]
  },
  {
   "cell_type": "code",
   "execution_count": null,
   "metadata": {},
   "outputs": [],
   "source": [
    "# full chunks (실습 용)\n",
    "full_chunks = []\n",
    "with open(\"data/chunk_db.json\") as f:\n",
    "    for line in f:\n",
    "        row = json.loads(line)\n",
    "        full_chunks.append(row['chunk'])\n",
    "len(full_chunks)"
   ]
  },
  {
   "cell_type": "code",
   "execution_count": null,
   "metadata": {},
   "outputs": [],
   "source": [
    "# chunk embedding 생성\n",
    "# 시간 오래 걸림\n",
    "chunk_embeddings = model.encode(full_chunks, normalize_embeddings=True)\n",
    "chunk_embeddings.shape"
   ]
  },
  {
   "cell_type": "code",
   "execution_count": null,
   "metadata": {},
   "outputs": [],
   "source": [
    "# chunk norm 확인\n",
    "np.linalg.norm(chunk_embeddings, axis=1)"
   ]
  },
  {
   "cell_type": "code",
   "execution_count": null,
   "metadata": {},
   "outputs": [],
   "source": [
    "# 질문\n",
    "query = \"지미 카터가 졸업한 대학은 어디야?\"\n",
    "# query embedding\n",
    "query_embedding = model.encode(query, normalize_embeddings=True)\n",
    "query_embedding.shape"
   ]
  },
  {
   "cell_type": "code",
   "execution_count": null,
   "metadata": {},
   "outputs": [],
   "source": [
    "# query norm 확인\n",
    "np.linalg.norm(query_embedding, axis=0)"
   ]
  },
  {
   "cell_type": "markdown",
   "metadata": {
    "jp-MarkdownHeadingCollapsed": true
   },
   "source": [
    "# 3. 직접 계산"
   ]
  },
  {
   "cell_type": "code",
   "execution_count": null,
   "metadata": {},
   "outputs": [],
   "source": [
    "# cosine sim\n",
    "scores = np.dot(chunk_embeddings, query_embedding)\n",
    "scores.shape"
   ]
  },
  {
   "cell_type": "code",
   "execution_count": null,
   "metadata": {},
   "outputs": [],
   "source": [
    "# 유사도 순 정랼\n",
    "ranks = np.argsort(-scores)\n",
    "ranks"
   ]
  },
  {
   "cell_type": "code",
   "execution_count": null,
   "metadata": {},
   "outputs": [],
   "source": [
    "# 결과 score 확인 (top-10)\n",
    "for i in ranks[:10]:\n",
    "    print(\"=\" * 10, scores[i], \"=\" * 10)\n",
    "    print(full_chunks[i])\n",
    "    print()"
   ]
  },
  {
   "cell_type": "markdown",
   "metadata": {
    "jp-MarkdownHeadingCollapsed": true
   },
   "source": [
    "# 4. FAISS"
   ]
  },
  {
   "cell_type": "code",
   "execution_count": null,
   "metadata": {},
   "outputs": [],
   "source": [
    "# dimension of embedding\n",
    "d = chunk_embeddings.shape[1]\n",
    "d"
   ]
  },
  {
   "cell_type": "markdown",
   "metadata": {
    "jp-MarkdownHeadingCollapsed": true
   },
   "source": [
    "## 4.1. L2 distance"
   ]
  },
  {
   "cell_type": "code",
   "execution_count": null,
   "metadata": {},
   "outputs": [],
   "source": [
    "# L2 Index 생성 (L2 Distance)\n",
    "index = faiss.IndexFlatL2(d)\n",
    "type(index)"
   ]
  },
  {
   "cell_type": "code",
   "execution_count": null,
   "metadata": {},
   "outputs": [],
   "source": [
    "# check index available\n",
    "index.is_trained"
   ]
  },
  {
   "cell_type": "code",
   "execution_count": null,
   "metadata": {},
   "outputs": [],
   "source": [
    "# add chunk embedding\n",
    "index.add(chunk_embeddings)"
   ]
  },
  {
   "cell_type": "code",
   "execution_count": null,
   "metadata": {},
   "outputs": [],
   "source": [
    "# check total embedding number\n",
    "index.ntotal"
   ]
  },
  {
   "cell_type": "code",
   "execution_count": null,
   "metadata": {},
   "outputs": [],
   "source": [
    "query_embeddings = query_embedding.reshape(1, -1)\n",
    "query_embeddings.shape"
   ]
  },
  {
   "cell_type": "code",
   "execution_count": null,
   "metadata": {},
   "outputs": [],
   "source": [
    "%%time\n",
    "D, I = index.search(query_embeddings, 10)  # search\n",
    "print(I)"
   ]
  },
  {
   "cell_type": "code",
   "execution_count": null,
   "metadata": {},
   "outputs": [],
   "source": [
    "# 결과 확인\n",
    "for i in I[0]:\n",
    "    print(i)\n",
    "    print(full_chunks[i])\n",
    "    print('=' * 30)"
   ]
  },
  {
   "cell_type": "code",
   "execution_count": null,
   "metadata": {},
   "outputs": [],
   "source": [
    "# index 저장하기\n",
    "faissindex_file = \"data/faiss_flat_l2.index\"\n",
    "faiss.write_index(index, faissindex_file)"
   ]
  },
  {
   "cell_type": "code",
   "execution_count": null,
   "metadata": {},
   "outputs": [],
   "source": [
    "# index 읽어오기\n",
    "load_index = faiss.read_index(faissindex_file)\n",
    "type(load_index), load_index.ntotal"
   ]
  },
  {
   "cell_type": "markdown",
   "metadata": {
    "jp-MarkdownHeadingCollapsed": true
   },
   "source": [
    "## 4.2. Inner Product Query (연습 문제)\n",
    "- 위 코드와 비슷하게 tutorial 코드를 완성하세요. (모든 동작이 동일합니다.)"
   ]
  },
  {
   "cell_type": "code",
   "execution_count": null,
   "metadata": {},
   "outputs": [],
   "source": [
    "# Inner Product Index 생성\n",
    "index = faiss.IndexFlatIP(d)\n",
    "type(index)"
   ]
  },
  {
   "cell_type": "code",
   "execution_count": null,
   "metadata": {},
   "outputs": [],
   "source": []
  },
  {
   "cell_type": "markdown",
   "metadata": {
    "jp-MarkdownHeadingCollapsed": true
   },
   "source": [
    "# 5. Chroma DB"
   ]
  },
  {
   "cell_type": "code",
   "execution_count": null,
   "metadata": {},
   "outputs": [],
   "source": [
    "# in memory db\n",
    "# https://docs.trychroma.com/reference/Client#client\n",
    "# client = chromadb.Client()"
   ]
  },
  {
   "cell_type": "code",
   "execution_count": null,
   "metadata": {},
   "outputs": [],
   "source": [
    "# 데이터를 파일에 저장 (sqlite)\n",
    "# https://docs.trychroma.com/reference/Client#persistentclient\n",
    "client = chromadb.PersistentClient(path=\"data/chroma.db\")"
   ]
  },
  {
   "cell_type": "markdown",
   "metadata": {
    "jp-MarkdownHeadingCollapsed": true
   },
   "source": [
    "## 5.1. L2 distance Query"
   ]
  },
  {
   "cell_type": "code",
   "execution_count": null,
   "metadata": {},
   "outputs": [],
   "source": [
    "try:\n",
    "    # 자동차 메뉴얼 l2 distance collection\n",
    "    car_l2 = client.create_collection(name=\"car_l2\")\n",
    "    print('create:', 'car_l2')\n",
    "except:\n",
    "    car_l2 = client.get_collection(name=\"car_l2\")\n",
    "    print('exists:', 'car_l2')\n",
    "car_l2"
   ]
  },
  {
   "cell_type": "code",
   "execution_count": null,
   "metadata": {},
   "outputs": [],
   "source": [
    "# np.array to list\n",
    "chunk_embedding_list = [embedding.tolist() for embedding in chunk_embeddings]\n",
    "# dimension of embedding\n",
    "len(chunk_embedding_list)"
   ]
  },
  {
   "cell_type": "code",
   "execution_count": null,
   "metadata": {},
   "outputs": [],
   "source": [
    "# 문서 목록\n",
    "metadatas = [{'text': t, 'source': 'kowiki'} for t in full_chunks]\n",
    "len(metadatas)"
   ]
  },
  {
   "cell_type": "code",
   "execution_count": null,
   "metadata": {},
   "outputs": [],
   "source": [
    "# ids (string only)\n",
    "ids = list([str(i) for i in range(len(metadatas))])\n",
    "len(ids)"
   ]
  },
  {
   "cell_type": "code",
   "execution_count": null,
   "metadata": {},
   "outputs": [],
   "source": [
    "# 데이터 입력\n",
    "car_l2.add(embeddings=chunk_embedding_list,\n",
    "             metadatas=metadatas,\n",
    "             ids=ids)"
   ]
  },
  {
   "cell_type": "code",
   "execution_count": null,
   "metadata": {},
   "outputs": [],
   "source": [
    "# l2 distance query\n",
    "result = car_l2.query(query_embedding.tolist(),\n",
    "                      n_results=10)\n",
    "print(result)"
   ]
  },
  {
   "cell_type": "code",
   "execution_count": null,
   "metadata": {},
   "outputs": [],
   "source": [
    "for i in range(len(result['ids'][0])):\n",
    "    print(result['metadatas'][0][i]['text'])\n",
    "    print('=' * 30)"
   ]
  },
  {
   "cell_type": "markdown",
   "metadata": {
    "jp-MarkdownHeadingCollapsed": true
   },
   "source": [
    "## 5.2. Cosine sim Query (연습 문제)\n",
    "- 위 코드와 비슷하게 tutorial 코드를 완성하세요. (모든 동작이 동일합니다.)"
   ]
  },
  {
   "cell_type": "code",
   "execution_count": null,
   "metadata": {},
   "outputs": [],
   "source": [
    "try:\n",
    "    # 자동차 메뉴얼 l2 distance collection\n",
    "    car_cos = client.create_collection(name=\"car_cos\", metadata={\"hnsw:space\": \"cosine\"})\n",
    "    print('create:', 'car_cos')\n",
    "except:\n",
    "    car_cos = client.get_collection(name=\"car_cos\")\n",
    "    print('exists:', 'car_cos')\n",
    "car_cos"
   ]
  },
  {
   "cell_type": "code",
   "execution_count": null,
   "metadata": {},
   "outputs": [],
   "source": []
  }
 ],
 "metadata": {
  "kernelspec": {
   "display_name": "Python 3 (ipykernel)",
   "language": "python",
   "name": "python3"
  },
  "language_info": {
   "codemirror_mode": {
    "name": "ipython",
    "version": 3
   },
   "file_extension": ".py",
   "mimetype": "text/x-python",
   "name": "python",
   "nbconvert_exporter": "python",
   "pygments_lexer": "ipython3",
   "version": "3.9.19"
  }
 },
 "nbformat": 4,
 "nbformat_minor": 4
}
