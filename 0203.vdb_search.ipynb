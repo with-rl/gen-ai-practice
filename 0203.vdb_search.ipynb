{
 "cells": [
  {
   "cell_type": "markdown",
   "metadata": {
    "jp-MarkdownHeadingCollapsed": true
   },
   "source": [
    "# 0. Env"
   ]
  },
  {
   "cell_type": "code",
   "execution_count": null,
   "metadata": {
    "id": "msbi-uO2lPPj"
   },
   "outputs": [],
   "source": [
    "import time\n",
    "\n",
    "import numpy as np\n",
    "import pandas as pd\n",
    "import matplotlib.pyplot as plt\n",
    "\n",
    "import faiss"
   ]
  },
  {
   "cell_type": "code",
   "execution_count": null,
   "metadata": {
    "id": "dO7HLqyatvfe"
   },
   "outputs": [],
   "source": [
    "# 속도 비교 용 dictionary\n",
    "res_time_dict = {}"
   ]
  },
  {
   "cell_type": "markdown",
   "metadata": {
    "id": "qgbIhC6Drlaf",
    "jp-MarkdownHeadingCollapsed": true
   },
   "source": [
    "# 1. Context & Query Vector\n",
    "- 성능 확인을 위해서 다수의 context 벡터와, query 벡터를 가정"
   ]
  },
  {
   "cell_type": "code",
   "execution_count": null,
   "metadata": {
    "id": "wUkWkOVzlPPk"
   },
   "outputs": [],
   "source": [
    "d = 256                 # 벡터 차원수\n",
    "nb = 1000000           # context vector size\n",
    "nq = 1000               # query vector size\n",
    "np.random.seed(1234)    # random seed"
   ]
  },
  {
   "cell_type": "code",
   "execution_count": null,
   "metadata": {
    "id": "JaHj9xNLm2R3"
   },
   "outputs": [],
   "source": [
    "# context vector\n",
    "xb = np.random.random((nb, d)).astype('float32')\n",
    "xb[:, 0] += np.arange(nb) / 1000."
   ]
  },
  {
   "cell_type": "code",
   "execution_count": null,
   "metadata": {
    "id": "TyHULRYem2-X"
   },
   "outputs": [],
   "source": [
    "# query vector\n",
    "xq = np.random.random((nq, d)).astype('float32')\n",
    "xq[:, 0] += np.arange(nq) / 1000."
   ]
  },
  {
   "cell_type": "markdown",
   "metadata": {
    "id": "Hl19LsX-lPPk",
    "jp-MarkdownHeadingCollapsed": true
   },
   "source": [
    "# 2. Flat: 브루트포스"
   ]
  },
  {
   "cell_type": "code",
   "execution_count": null,
   "metadata": {
    "id": "Jal6uiN7nB0u"
   },
   "outputs": [],
   "source": [
    "# L2 index 생성\n",
    "index = faiss.IndexFlatL2(d)\n",
    "index.is_trained"
   ]
  },
  {
   "cell_type": "code",
   "execution_count": null,
   "metadata": {
    "id": "EfGiK2hnnf_i"
   },
   "outputs": [],
   "source": [
    "# context embedding 추가\n",
    "index.add(xb)\n",
    "index.ntotal"
   ]
  },
  {
   "cell_type": "code",
   "execution_count": null,
   "metadata": {
    "id": "mNm6lk6qnmy_"
   },
   "outputs": [],
   "source": [
    "k = 10\n",
    "\n",
    "start = time.time()\n",
    "D, I = index.search(xq, k)\n",
    "end = time.time()\n",
    "\n",
    "print(I)\n",
    "res_time_dict['Flat'] = end - start\n",
    "print('total time:', (end - start))"
   ]
  },
  {
   "cell_type": "markdown",
   "metadata": {
    "id": "i8NwuaoUCALY",
    "jp-MarkdownHeadingCollapsed": true
   },
   "source": [
    "# 3. LSH: Locality Sensitive Hashing"
   ]
  },
  {
   "cell_type": "code",
   "execution_count": null,
   "metadata": {
    "id": "Xw3MC7VmCDeF"
   },
   "outputs": [],
   "source": [
    "nbits = d // 4  # resolution of bucketed vectors\n",
    "# initialize index and add vectors\n",
    "index = faiss.IndexLSH(d, nbits)\n",
    "index.add(xb)"
   ]
  },
  {
   "cell_type": "code",
   "execution_count": null,
   "metadata": {
    "id": "krgyU8qpCDaC"
   },
   "outputs": [],
   "source": [
    "k = 10\n",
    "\n",
    "start = time.time()\n",
    "D, I = index.search(xq, k)\n",
    "end = time.time()\n",
    "\n",
    "print(I)\n",
    "res_time_dict['LSH'] = end - start\n",
    "print('total time:', (end - start))"
   ]
  },
  {
   "cell_type": "markdown",
   "metadata": {
    "id": "0EWAKoDUDktx",
    "jp-MarkdownHeadingCollapsed": true
   },
   "source": [
    "# 4. HNSW: Hierarchical Navigable Small World Graphs"
   ]
  },
  {
   "cell_type": "code",
   "execution_count": null,
   "metadata": {
    "id": "Ykw9GEuwD3GP"
   },
   "outputs": [],
   "source": [
    "# set HNSW index parameters\n",
    "M = 64  # number of connections each vertex will have\n",
    "ef_search = 32  # depth of layers explored during search\n",
    "ef_construction = 64  # depth of layers explored during index construction"
   ]
  },
  {
   "cell_type": "code",
   "execution_count": null,
   "metadata": {
    "id": "ZE7SHIqqD3Cf"
   },
   "outputs": [],
   "source": [
    "# 그래프 생성 시간이 오래 걸림 (10만 데이터만 사용)\n",
    "# initialize index\n",
    "index = faiss.IndexHNSWFlat(d, M)\n",
    "# set efConstruction and efSearch parameters\n",
    "index.hnsw.efConstruction = ef_construction\n",
    "index.hnsw.efSearch = ef_search\n",
    "# add data to index\n",
    "index.add(xb[:100000])"
   ]
  },
  {
   "cell_type": "code",
   "execution_count": null,
   "metadata": {
    "id": "_2CijI97D29-"
   },
   "outputs": [],
   "source": [
    "k = 10\n",
    "\n",
    "start = time.time()\n",
    "D, I = index.search(xq, k)\n",
    "end = time.time()\n",
    "\n",
    "print(I)\n",
    "res_time_dict['HNSW'] = end - start\n",
    "print('total time:', (end - start))"
   ]
  },
  {
   "cell_type": "markdown",
   "metadata": {
    "id": "nbyfKgFlrCTX",
    "jp-MarkdownHeadingCollapsed": true
   },
   "source": [
    "# 5. Inverted File Index"
   ]
  },
  {
   "cell_type": "markdown",
   "metadata": {
    "id": "M0-oFMEOstJg",
    "jp-MarkdownHeadingCollapsed": true
   },
   "source": [
    "## 5.1. IndexIVFFlat query"
   ]
  },
  {
   "cell_type": "code",
   "execution_count": null,
   "metadata": {
    "id": "cx9UA8FMpBL9"
   },
   "outputs": [],
   "source": [
    "# IndexIVFFlat partitioning\n",
    "nlist = 50 # how many cells\n",
    "quantizer = faiss.IndexFlatL2(d)\n",
    "index = faiss.IndexIVFFlat(quantizer, d, nlist)"
   ]
  },
  {
   "cell_type": "code",
   "execution_count": null,
   "metadata": {
    "id": "qGUNBWRFrMTj"
   },
   "outputs": [],
   "source": [
    "# check trained\n",
    "index.is_trained"
   ]
  },
  {
   "cell_type": "code",
   "execution_count": null,
   "metadata": {
    "id": "81aUaGw8rOiY"
   },
   "outputs": [],
   "source": [
    "index.train(xb)\n",
    "index.is_trained  # check if index is now trained"
   ]
  },
  {
   "cell_type": "code",
   "execution_count": null,
   "metadata": {
    "id": "eHPphiiorx6E"
   },
   "outputs": [],
   "source": [
    "index.add(xb)\n",
    "index.ntotal  # number of embeddings indexed"
   ]
  },
  {
   "cell_type": "code",
   "execution_count": null,
   "metadata": {
    "id": "hUTFQvwtrYoD"
   },
   "outputs": [],
   "source": [
    "index.nprobe"
   ]
  },
  {
   "cell_type": "code",
   "execution_count": null,
   "metadata": {
    "id": "FJOZXKyzr2Xa"
   },
   "outputs": [],
   "source": [
    "k = 10\n",
    "\n",
    "start = time.time()\n",
    "D, I = index.search(xq, k)\n",
    "end = time.time()\n",
    "\n",
    "print(I)\n",
    "res_time_dict['IVF.1'] = end - start\n",
    "print('total time:', (end - start))"
   ]
  },
  {
   "cell_type": "markdown",
   "metadata": {
    "id": "FyskhhAisyJV",
    "jp-MarkdownHeadingCollapsed": true
   },
   "source": [
    "## 5.2. Increase probs"
   ]
  },
  {
   "cell_type": "code",
   "execution_count": null,
   "metadata": {
    "id": "LrQGU3m1r7j2"
   },
   "outputs": [],
   "source": [
    "# increase number of probe\n",
    "index.nprobe = 10"
   ]
  },
  {
   "cell_type": "code",
   "execution_count": null,
   "metadata": {
    "id": "Q3rnAYKfsQZz"
   },
   "outputs": [],
   "source": [
    "k = 10\n",
    "\n",
    "start = time.time()\n",
    "D, I = index.search(xq, k)\n",
    "end = time.time()\n",
    "\n",
    "print(I)\n",
    "res_time_dict['IVF.10'] = end - start\n",
    "print('total time:', (end - start))"
   ]
  },
  {
   "cell_type": "markdown",
   "metadata": {
    "id": "38UYl5-CtRgS",
    "jp-MarkdownHeadingCollapsed": true
   },
   "source": [
    "# 6. Product Quantization"
   ]
  },
  {
   "cell_type": "code",
   "execution_count": null,
   "metadata": {
    "id": "NFqmvMEntFDS"
   },
   "outputs": [],
   "source": [
    "# make IndexIVFPQ index\n",
    "m = 8  # number of centroid IDs in final compressed vectors\n",
    "bits = 8 # number of bits in each centroid\n",
    "\n",
    "quantizer = faiss.IndexFlatL2(d)  # we keep the same L2 distance flat index\n",
    "index = faiss.IndexIVFPQ(quantizer, d, nlist, m, bits)"
   ]
  },
  {
   "cell_type": "code",
   "execution_count": null,
   "metadata": {
    "id": "U8N3r-8rtylY"
   },
   "outputs": [],
   "source": [
    "# check trained\n",
    "index.is_trained"
   ]
  },
  {
   "cell_type": "code",
   "execution_count": null,
   "metadata": {
    "id": "gZIgefqXt-Zs"
   },
   "outputs": [],
   "source": [
    "# train\n",
    "index.train(xb)\n",
    "index.is_trained  # check if index is now trained"
   ]
  },
  {
   "cell_type": "code",
   "execution_count": null,
   "metadata": {
    "id": "B786w5wLuINK"
   },
   "outputs": [],
   "source": [
    "index.add(xb)\n",
    "index.ntotal  # number of embeddings indexed"
   ]
  },
  {
   "cell_type": "code",
   "execution_count": null,
   "metadata": {
    "id": "Wtz13jHuuNuv"
   },
   "outputs": [],
   "source": [
    "index.nprobe = 10  # align to previous IndexIVFFlat nprobe value"
   ]
  },
  {
   "cell_type": "code",
   "execution_count": null,
   "metadata": {
    "id": "RkORNgf8uSUc"
   },
   "outputs": [],
   "source": [
    "k = 10\n",
    "\n",
    "start = time.time()\n",
    "D, I = index.search(xq, k)\n",
    "end = time.time()\n",
    "\n",
    "print(I)\n",
    "res_time_dict['PQ'] = end - start\n",
    "print('total time:', (end - start))"
   ]
  },
  {
   "cell_type": "markdown",
   "metadata": {
    "id": "N5A7bKXsoVY_",
    "jp-MarkdownHeadingCollapsed": true
   },
   "source": [
    "# 7. Query On GPU"
   ]
  },
  {
   "cell_type": "code",
   "execution_count": null,
   "metadata": {
    "id": "sB3bPcden8wi"
   },
   "outputs": [],
   "source": [
    "# L2 index 생성\n",
    "index = faiss.IndexFlatL2(d)\n",
    "index.is_trained"
   ]
  },
  {
   "cell_type": "code",
   "execution_count": null,
   "metadata": {
    "id": "lIhIjsQppSla"
   },
   "outputs": [],
   "source": [
    "res = faiss.StandardGpuResources()                # GPU 리소스 객체 생성\n",
    "gpu_index = faiss.index_cpu_to_gpu(res, 0, index) # 인덱스를 GPU로 전송"
   ]
  },
  {
   "cell_type": "code",
   "execution_count": null,
   "metadata": {
    "id": "zCVWqG6jo_Lh"
   },
   "outputs": [],
   "source": [
    "# context embedding 추가\n",
    "gpu_index.add(xb)\n",
    "gpu_index.ntotal"
   ]
  },
  {
   "cell_type": "code",
   "execution_count": null,
   "metadata": {
    "id": "munYqPC8o_3_"
   },
   "outputs": [],
   "source": [
    "k = 10\n",
    "\n",
    "start = time.time()\n",
    "D, I = index.search(xq, k)\n",
    "end = time.time()\n",
    "\n",
    "print(I)\n",
    "res_time_dict['GPU'] = end - start\n",
    "print('total time:', (end - start))"
   ]
  },
  {
   "cell_type": "markdown",
   "metadata": {
    "id": "WUSgQ4yasM4U",
    "jp-MarkdownHeadingCollapsed": true
   },
   "source": [
    "# 8. Visualization"
   ]
  },
  {
   "cell_type": "code",
   "execution_count": null,
   "metadata": {
    "id": "rE3Sr7thsiD0"
   },
   "outputs": [],
   "source": [
    "data = {'algorithm': list(res_time_dict.keys()),\n",
    "        'res time': list(res_time_dict.values())}\n",
    "df = pd.DataFrame.from_dict(data)\n",
    "df"
   ]
  },
  {
   "cell_type": "code",
   "execution_count": null,
   "metadata": {
    "id": "X6VvKmoUu20J"
   },
   "outputs": [],
   "source": [
    "df.plot.bar(x='algorithm', y='res time')\n",
    "plt.show()"
   ]
  },
  {
   "cell_type": "code",
   "execution_count": null,
   "metadata": {
    "id": "xsoUvX2nvETM"
   },
   "outputs": [],
   "source": []
  }
 ],
 "metadata": {
  "accelerator": "GPU",
  "colab": {
   "collapsed_sections": [
    "qgbIhC6Drlaf",
    "Hl19LsX-lPPk",
    "i8NwuaoUCALY",
    "0EWAKoDUDktx",
    "nbyfKgFlrCTX",
    "M0-oFMEOstJg",
    "FyskhhAisyJV",
    "bGD3IZCAtI7p",
    "38UYl5-CtRgS",
    "N5A7bKXsoVY_",
    "WUSgQ4yasM4U"
   ],
   "gpuType": "T4",
   "provenance": []
  },
  "kernelspec": {
   "display_name": "Python 3 (ipykernel)",
   "language": "python",
   "name": "python3"
  },
  "language_info": {
   "codemirror_mode": {
    "name": "ipython",
    "version": 3
   },
   "file_extension": ".py",
   "mimetype": "text/x-python",
   "name": "python",
   "nbconvert_exporter": "python",
   "pygments_lexer": "ipython3",
   "version": "3.9.19"
  }
 },
 "nbformat": 4,
 "nbformat_minor": 4
}
