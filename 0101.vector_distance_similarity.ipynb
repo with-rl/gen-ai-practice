{
 "cells": [
  {
   "cell_type": "markdown",
   "metadata": {
    "jp-MarkdownHeadingCollapsed": true
   },
   "source": [
    "# 0. Env"
   ]
  },
  {
   "cell_type": "code",
   "execution_count": null,
   "metadata": {},
   "outputs": [],
   "source": [
    "import numpy as np\n",
    "import torch"
   ]
  },
  {
   "cell_type": "code",
   "execution_count": null,
   "metadata": {},
   "outputs": [],
   "source": [
    "# Gradient False\n",
    "# Pytorch에서 동작을 확안하기 위해서 Gradient 계산을 하지 않도록 설정\n",
    "torch.set_grad_enabled(False)"
   ]
  },
  {
   "cell_type": "markdown",
   "metadata": {
    "jp-MarkdownHeadingCollapsed": true
   },
   "source": [
    "# 1. 벡터 거리 및 유사도"
   ]
  },
  {
   "cell_type": "code",
   "execution_count": null,
   "metadata": {},
   "outputs": [],
   "source": [
    "a = np.array([2, 5])\n",
    "b = np.array([4, 6])\n",
    "c = np.array([6, 2])"
   ]
  },
  {
   "cell_type": "markdown",
   "metadata": {
    "jp-MarkdownHeadingCollapsed": true
   },
   "source": [
    "## 1.1. L1 Distance"
   ]
  },
  {
   "cell_type": "code",
   "execution_count": null,
   "metadata": {},
   "outputs": [],
   "source": [
    "# 직접 계산\n",
    "distance = 0\n",
    "for a_i, b_i in zip(a, b):\n",
    "    distance += np.abs(a_i - b_i)\n",
    "distance"
   ]
  },
  {
   "cell_type": "code",
   "execution_count": null,
   "metadata": {},
   "outputs": [],
   "source": [
    "# numpy를 이용한 계산\n",
    "distance = np.sum(np.abs(a - b))\n",
    "distance"
   ]
  },
  {
   "cell_type": "code",
   "execution_count": null,
   "metadata": {},
   "outputs": [],
   "source": [
    "# numpy 함수를 이용한 계산\n",
    "# https://numpy.org/doc/stable/reference/generated/numpy.linalg.norm.html\n",
    "np.linalg.norm(a - b, 1)"
   ]
  },
  {
   "cell_type": "code",
   "execution_count": null,
   "metadata": {},
   "outputs": [],
   "source": [
    "# torch L1 distance\n",
    "tensor_a = torch.from_numpy(a).float()\n",
    "tensor_b = torch.from_numpy(b).float()\n",
    "distance = torch.norm(tensor_a - tensor_b, 1)\n",
    "distance"
   ]
  },
  {
   "cell_type": "markdown",
   "metadata": {},
   "source": [
    "### 연습문제\n",
    "- 벡터 a, c의 L1 distnace를 구하세요.\n",
    "- 벡터 b, c의 L1 distnace를 구하세요."
   ]
  },
  {
   "cell_type": "code",
   "execution_count": null,
   "metadata": {},
   "outputs": [],
   "source": []
  },
  {
   "cell_type": "markdown",
   "metadata": {
    "jp-MarkdownHeadingCollapsed": true
   },
   "source": [
    "## 1.2. L2 Distance"
   ]
  },
  {
   "cell_type": "code",
   "execution_count": null,
   "metadata": {},
   "outputs": [],
   "source": [
    "# 직접 계산\n",
    "distance = 0\n",
    "for a_i, b_i in zip(a, b):\n",
    "    distance += np.square(a_i - b_i)\n",
    "distance = np.sqrt(distance)\n",
    "distance"
   ]
  },
  {
   "cell_type": "code",
   "execution_count": null,
   "metadata": {},
   "outputs": [],
   "source": [
    "# numpy를 이용한 계산\n",
    "distance = np.sqrt(np.sum(np.square(a - b)))\n",
    "distance"
   ]
  },
  {
   "cell_type": "code",
   "execution_count": null,
   "metadata": {},
   "outputs": [],
   "source": [
    "# numpy 함수를 이용한 계산\n",
    "# https://numpy.org/doc/stable/reference/generated/numpy.linalg.norm.html\n",
    "np.linalg.norm(a - b, 2)"
   ]
  },
  {
   "cell_type": "code",
   "execution_count": null,
   "metadata": {},
   "outputs": [],
   "source": [
    "# torch L2 distance\n",
    "tensor_a = torch.from_numpy(a).float()\n",
    "tensor_b = torch.from_numpy(b).float()\n",
    "distance = torch.norm(tensor_a - tensor_b, 2)\n",
    "distance"
   ]
  },
  {
   "cell_type": "markdown",
   "metadata": {},
   "source": [
    "### 연습문제\n",
    "- 벡터 a, c의 L2 distnace를 구하세요.\n",
    "- 벡터 b, c의 L2 distnace를 구하세요."
   ]
  },
  {
   "cell_type": "code",
   "execution_count": null,
   "metadata": {},
   "outputs": [],
   "source": []
  },
  {
   "cell_type": "markdown",
   "metadata": {
    "jp-MarkdownHeadingCollapsed": true
   },
   "source": [
    "## 1.3. Dot-product"
   ]
  },
  {
   "cell_type": "code",
   "execution_count": null,
   "metadata": {},
   "outputs": [],
   "source": [
    "# 직접 계산\n",
    "similarity = 0\n",
    "for a_i, b_i in zip(a, b):\n",
    "    similarity += a_i * b_i\n",
    "similarity"
   ]
  },
  {
   "cell_type": "code",
   "execution_count": null,
   "metadata": {},
   "outputs": [],
   "source": [
    "# numpy를 이용한 계산\n",
    "similarity = np.dot(a, b)\n",
    "similarity"
   ]
  },
  {
   "cell_type": "code",
   "execution_count": null,
   "metadata": {},
   "outputs": [],
   "source": [
    "# numpy를 이용한 계산\n",
    "similarity = a @ b\n",
    "similarity"
   ]
  },
  {
   "cell_type": "code",
   "execution_count": null,
   "metadata": {},
   "outputs": [],
   "source": [
    "# torch dot-product\n",
    "tensor_a = torch.from_numpy(a).float()\n",
    "tensor_b = torch.from_numpy(b).float()\n",
    "similarity = torch.dot(tensor_a, tensor_b)\n",
    "similarity"
   ]
  },
  {
   "cell_type": "markdown",
   "metadata": {},
   "source": [
    "### 연습문제\n",
    "- 벡터 a, c의 dot-product를 구하세요.\n",
    "- 벡터 b, c의 dot-product를 구하세요."
   ]
  },
  {
   "cell_type": "code",
   "execution_count": null,
   "metadata": {},
   "outputs": [],
   "source": []
  },
  {
   "cell_type": "markdown",
   "metadata": {
    "jp-MarkdownHeadingCollapsed": true
   },
   "source": [
    "## 1.4. 코싸인 유사도"
   ]
  },
  {
   "cell_type": "code",
   "execution_count": null,
   "metadata": {},
   "outputs": [],
   "source": [
    "# 직접 계산\n",
    "similarity = 0\n",
    "for a_i, b_i in zip(a, b):\n",
    "    similarity += a_i * b_i\n",
    "similarity /= (np.linalg.norm(a, 2) * np.linalg.norm(b, 2))\n",
    "similarity"
   ]
  },
  {
   "cell_type": "code",
   "execution_count": null,
   "metadata": {},
   "outputs": [],
   "source": [
    "# 각도 확인\n",
    "theta = np.arccos(similarity)\n",
    "theta, np.cos(theta)"
   ]
  },
  {
   "cell_type": "code",
   "execution_count": null,
   "metadata": {},
   "outputs": [],
   "source": [
    "# 단위 벡터의 내적\n",
    "unit_a = a / np.linalg.norm(a, 2)\n",
    "unit_b = b / np.linalg.norm(b, 2)\n",
    "\n",
    "similarity = unit_a @ unit_b\n",
    "similarity"
   ]
  },
  {
   "cell_type": "markdown",
   "metadata": {},
   "source": [
    "### 연습문제\n",
    "- 벡터 a, c의 코싸인 유사도를 구하세요.\n",
    "- 벡터 b, c의 코싸인 유사도를 구하세요."
   ]
  },
  {
   "cell_type": "code",
   "execution_count": null,
   "metadata": {},
   "outputs": [],
   "source": []
  }
 ],
 "metadata": {
  "kernelspec": {
   "display_name": "Python 3 (ipykernel)",
   "language": "python",
   "name": "python3"
  },
  "language_info": {
   "codemirror_mode": {
    "name": "ipython",
    "version": 3
   },
   "file_extension": ".py",
   "mimetype": "text/x-python",
   "name": "python",
   "nbconvert_exporter": "python",
   "pygments_lexer": "ipython3",
   "version": "3.9.19"
  }
 },
 "nbformat": 4,
 "nbformat_minor": 4
}
