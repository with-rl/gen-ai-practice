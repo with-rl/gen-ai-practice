{
 "cells": [
  {
   "cell_type": "markdown",
   "metadata": {
    "jp-MarkdownHeadingCollapsed": true
   },
   "source": [
    "# 0. Env"
   ]
  },
  {
   "cell_type": "code",
   "execution_count": null,
   "metadata": {},
   "outputs": [],
   "source": [
    "import numpy as np\n",
    "\n",
    "import torch\n",
    "\n",
    "from transformers import CLIPProcessor, CLIPModel\n",
    "from datasets import load_dataset"
   ]
  },
  {
   "cell_type": "code",
   "execution_count": null,
   "metadata": {},
   "outputs": [],
   "source": [
    "# Gradient False\n",
    "# Pytorch에서 동작을 확안하기 위해서 Gradient 계산을 하지 않도록 설정\n",
    "torch.set_grad_enabled(False)"
   ]
  },
  {
   "cell_type": "markdown",
   "metadata": {
    "jp-MarkdownHeadingCollapsed": true
   },
   "source": [
    "# 1. CLIP"
   ]
  },
  {
   "cell_type": "code",
   "execution_count": null,
   "metadata": {},
   "outputs": [],
   "source": [
    "# 데이터 로딩\n",
    "data = load_dataset(\n",
    "    \"jamescalam/image-text-demo\",\n",
    "    split=\"train\"\n",
    ")\n",
    "data"
   ]
  },
  {
   "cell_type": "code",
   "execution_count": null,
   "metadata": {},
   "outputs": [],
   "source": [
    "# 사전 학습된 모델 로딩\n",
    "model_id = \"openai/clip-vit-base-patch32\"\n",
    "\n",
    "processor = CLIPProcessor.from_pretrained(model_id)\n",
    "model = CLIPModel.from_pretrained(model_id)"
   ]
  },
  {
   "cell_type": "code",
   "execution_count": null,
   "metadata": {},
   "outputs": [],
   "source": [
    "# GPU 사용 가능 여부 확인\n",
    "device = torch.device('cuda' if torch.cuda.is_available() else 'cpu')\n",
    "model.to(device)"
   ]
  },
  {
   "cell_type": "code",
   "execution_count": null,
   "metadata": {},
   "outputs": [],
   "source": [
    "# text를 token으로 변경\n",
    "text = data['text'] \n",
    "\n",
    "tokens = processor(\n",
    "    text=text,\n",
    "    padding=True,\n",
    "    images=None,\n",
    "    return_tensors='pt'\n",
    ").to(device)\n",
    "\n",
    "tokens"
   ]
  },
  {
   "cell_type": "code",
   "execution_count": null,
   "metadata": {},
   "outputs": [],
   "source": [
    "# 텍스트 특징 벡터\n",
    "text_emb = model.get_text_features(**tokens)"
   ]
  },
  {
   "cell_type": "code",
   "execution_count": null,
   "metadata": {},
   "outputs": [],
   "source": [
    "print(text_emb.shape)\n",
    "print(text_emb.min(), text_emb.max())"
   ]
  },
  {
   "cell_type": "code",
   "execution_count": null,
   "metadata": {},
   "outputs": [],
   "source": [
    "# torch tensor를 numpy로 변환\n",
    "text_emb = text_emb.detach().cpu().numpy()\n",
    "\n",
    "# L2 Norm\n",
    "norm_factor = np.linalg.norm(text_emb, axis=1)\n",
    "norm_factor.shape"
   ]
  },
  {
   "cell_type": "code",
   "execution_count": null,
   "metadata": {},
   "outputs": [],
   "source": [
    "# L2 norm이 1인 단위 벡터\n",
    "text_emb = text_emb.T / norm_factor\n",
    "# (521, 21) -> (21, 512)\n",
    "text_emb = text_emb.T\n",
    "print(text_emb.shape)\n",
    "print(text_emb.min(), text_emb.max())"
   ]
  },
  {
   "cell_type": "code",
   "execution_count": null,
   "metadata": {},
   "outputs": [],
   "source": [
    "# 이미지 전처리\n",
    "image_batch = data['image']\n",
    "\n",
    "images = processor(\n",
    "    text=None,\n",
    "    images=image_batch,\n",
    "    return_tensors='pt'\n",
    ")['pixel_values'].to(device)\n",
    "\n",
    "images.shape"
   ]
  },
  {
   "cell_type": "code",
   "execution_count": null,
   "metadata": {},
   "outputs": [],
   "source": [
    "# 이미지 특징 벡터\n",
    "img_emb = model.get_image_features(images)\n",
    "print(img_emb.shape)\n",
    "print(img_emb.min(), img_emb.max())"
   ]
  },
  {
   "cell_type": "code",
   "execution_count": null,
   "metadata": {},
   "outputs": [],
   "source": [
    "# torch tensor를 numpy로 변환\n",
    "img_emb = img_emb.detach().cpu().numpy()\n",
    "\n",
    "# L2 Norm\n",
    "norm_factor = np.linalg.norm(img_emb, axis=1)\n",
    "norm_factor.shape"
   ]
  },
  {
   "cell_type": "code",
   "execution_count": null,
   "metadata": {},
   "outputs": [],
   "source": [
    "# L2 norm이 1인 단위 벡터\n",
    "img_emb = img_emb.T / norm_factor\n",
    "# (521, 21) -> (21, 512)\n",
    "img_emb = img_emb.T\n",
    "print(img_emb.shape)\n",
    "print(img_emb.min(), img_emb.max())"
   ]
  },
  {
   "cell_type": "code",
   "execution_count": null,
   "metadata": {},
   "outputs": [],
   "source": [
    "cos_sim = np.dot(text_emb, img_emb.T) / (\n",
    "    np.linalg.norm(text_emb, axis=1) * np.linalg.norm(img_emb, axis=1)\n",
    ")\n",
    "cos_sim.shape"
   ]
  },
  {
   "cell_type": "code",
   "execution_count": null,
   "metadata": {},
   "outputs": [],
   "source": [
    "import matplotlib.pyplot as plt\n",
    "\n",
    "plt.imshow(cos_sim)\n",
    "plt.show()"
   ]
  },
  {
   "cell_type": "code",
   "execution_count": null,
   "metadata": {},
   "outputs": [],
   "source": [
    "dot_sim = np.dot(text_emb, img_emb.T)\n",
    "\n",
    "plt.imshow(dot_sim)\n",
    "plt.show()"
   ]
  },
  {
   "cell_type": "code",
   "execution_count": null,
   "metadata": {},
   "outputs": [],
   "source": [
    "diff = cos_sim - dot_sim\n",
    "diff.min(), diff.max()"
   ]
  },
  {
   "cell_type": "code",
   "execution_count": null,
   "metadata": {},
   "outputs": [],
   "source": []
  }
 ],
 "metadata": {
  "kernelspec": {
   "display_name": "Python 3 (ipykernel)",
   "language": "python",
   "name": "python3"
  },
  "language_info": {
   "codemirror_mode": {
    "name": "ipython",
    "version": 3
   },
   "file_extension": ".py",
   "mimetype": "text/x-python",
   "name": "python",
   "nbconvert_exporter": "python",
   "pygments_lexer": "ipython3",
   "version": "3.9.19"
  }
 },
 "nbformat": 4,
 "nbformat_minor": 4
}
