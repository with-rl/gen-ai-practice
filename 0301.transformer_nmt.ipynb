{
 "cells": [
  {
   "cell_type": "markdown",
   "id": "7780ac99-d462-428e-9797-aeb4241407cd",
   "metadata": {
    "jp-MarkdownHeadingCollapsed": true
   },
   "source": [
    "# 0. Env"
   ]
  },
  {
   "cell_type": "code",
   "execution_count": null,
   "id": "b3a23bda-dd89-40e8-baf1-3edbf786cf1d",
   "metadata": {},
   "outputs": [],
   "source": [
    "import os\n",
    "import sys\n",
    "import argparse\n",
    "from tqdm import tqdm\n",
    "\n",
    "import torch\n",
    "\n",
    "from transformers import (\n",
    "    T5TokenizerFast,\n",
    "    T5ForConditionalGeneration,\n",
    "    AutoTokenizer,\n",
    "    AutoModelForSeq2SeqLM,\n",
    "    GenerationConfig,\n",
    ")"
   ]
  },
  {
   "cell_type": "markdown",
   "id": "2de27131-6a31-4f24-a8ff-4879c052c291",
   "metadata": {
    "jp-MarkdownHeadingCollapsed": true
   },
   "source": [
    "# 1. NMT\n",
    "- 학습코드: https://github.com/with-rl/nlp-practice/tree/main/src/transformer\n",
    "- 학습에 사용된 데이터: AI-hub의 모든 번역 데이터 & 기타"
   ]
  },
  {
   "cell_type": "code",
   "execution_count": null,
   "id": "f8109c67-5b83-4d0c-9322-db6a02d4b9a8",
   "metadata": {},
   "outputs": [],
   "source": [
    "# GPU 사용 가능 여부 확인\n",
    "device = torch.device('cuda' if torch.cuda.is_available() else 'cpu')\n",
    "device"
   ]
  },
  {
   "cell_type": "code",
   "execution_count": null,
   "id": "d0501569-7244-4d6e-90dd-0f3dec415c90",
   "metadata": {},
   "outputs": [],
   "source": [
    "# 사전 학습된 한국어-영어 번역모델\n",
    "model_name = \"cchyun/nmt-koen-t5-small\""
   ]
  },
  {
   "cell_type": "code",
   "execution_count": null,
   "id": "ed31b8da-4a50-465f-99c1-b7934bda6b10",
   "metadata": {},
   "outputs": [],
   "source": [
    "# 모델 및 tokenizer 로딩\n",
    "model = AutoModelForSeq2SeqLM.from_pretrained(model_name)\n",
    "tokenizer = AutoTokenizer.from_pretrained(model_name)"
   ]
  },
  {
   "cell_type": "code",
   "execution_count": null,
   "id": "810ec8d2-56f3-4e7f-8334-ec66100a923d",
   "metadata": {},
   "outputs": [],
   "source": [
    "# model이 GPU를 사용하도록\n",
    "model.to(device)"
   ]
  },
  {
   "cell_type": "code",
   "execution_count": null,
   "id": "3b7f9153-387d-412f-8c94-d79fb217c4f2",
   "metadata": {},
   "outputs": [],
   "source": [
    "# 번역문을 생성할 설정 값\n",
    "generation_config = GenerationConfig(\n",
    "    max_new_tokens=128,\n",
    "    early_stopping=True,\n",
    "    do_sample=False,\n",
    "    num_beams=8,\n",
    "    use_cache=True,\n",
    "    pad_token_id=tokenizer.pad_token_id,\n",
    "    bos_token_id=tokenizer.bos_token_id,\n",
    "    eos_token_id=tokenizer.eos_token_id,\n",
    "    decoder_start_token_id=tokenizer.bos_token_id,\n",
    "    repetition_penalty=1.2,\n",
    "    length_penalty=1.0,\n",
    ")"
   ]
  },
  {
   "cell_type": "code",
   "execution_count": null,
   "id": "cc97a04c-fbf0-4f2e-bf53-d0f8c8d1f7d6",
   "metadata": {},
   "outputs": [],
   "source": [
    "# 번역할 원문\n",
    "line = \"만나서 반갑습니다. 저는 홍길동 입니다.\""
   ]
  },
  {
   "cell_type": "code",
   "execution_count": null,
   "id": "4aa9323e-728a-4d23-9dca-72a0136634c9",
   "metadata": {},
   "outputs": [],
   "source": [
    "# 모델에 입력할 token id\n",
    "x = tokenizer(\n",
    "        line,\n",
    "        truncation=True,\n",
    "        max_length=512,\n",
    "        return_tensors=\"pt\",\n",
    "    )[\"input_ids\"].to(device)\n",
    "x"
   ]
  },
  {
   "cell_type": "code",
   "execution_count": null,
   "id": "21d7c1dd-42eb-4b7a-866d-488ef3664685",
   "metadata": {},
   "outputs": [],
   "source": [
    "# 번역문 token id\n",
    "output = model.generate(\n",
    "    input_ids=x,\n",
    "    generation_config=generation_config,\n",
    ")\n",
    "output"
   ]
  },
  {
   "cell_type": "code",
   "execution_count": null,
   "id": "ab7ced7b-9e2b-48b4-a05e-4daf4267886e",
   "metadata": {},
   "outputs": [],
   "source": [
    "# 번역문을 문자로 변환\n",
    "result = tokenizer.decode(output[0], skip_special_tokens=True)\n",
    "result"
   ]
  },
  {
   "cell_type": "code",
   "execution_count": null,
   "id": "ae51dd4a-ad2a-4111-afaf-78ee68d9599d",
   "metadata": {},
   "outputs": [],
   "source": [
    "while True:\n",
    "    print(\"input> \", end=\"\")\n",
    "    line = str(input())\n",
    "    if len(line) == 0:\n",
    "        break\n",
    "\n",
    "    x = tokenizer(\n",
    "        line,\n",
    "        truncation=True,\n",
    "        max_length=512,\n",
    "        return_tensors=\"pt\",\n",
    "    )[\"input_ids\"].to(device)\n",
    "\n",
    "    output = model.generate(\n",
    "        input_ids=x,\n",
    "        generation_config=generation_config,\n",
    "    )\n",
    "    result = tokenizer.decode(output[0], skip_special_tokens=True)\n",
    "\n",
    "    print(f\"- ko: {line}\\n- en: {result}\\n\")"
   ]
  },
  {
   "cell_type": "code",
   "execution_count": null,
   "id": "0eb3c1a3-1d10-4c13-8bc8-4c771d1633a3",
   "metadata": {},
   "outputs": [],
   "source": []
  }
 ],
 "metadata": {
  "kernelspec": {
   "display_name": "Python 3 (ipykernel)",
   "language": "python",
   "name": "python3"
  },
  "language_info": {
   "codemirror_mode": {
    "name": "ipython",
    "version": 3
   },
   "file_extension": ".py",
   "mimetype": "text/x-python",
   "name": "python",
   "nbconvert_exporter": "python",
   "pygments_lexer": "ipython3",
   "version": "3.9.19"
  }
 },
 "nbformat": 4,
 "nbformat_minor": 5
}
