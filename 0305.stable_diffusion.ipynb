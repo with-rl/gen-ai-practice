{
 "cells": [
  {
   "cell_type": "markdown",
   "id": "f8f5a1b7-3f94-4ed5-92a1-80ec7b27e640",
   "metadata": {
    "jp-MarkdownHeadingCollapsed": true
   },
   "source": [
    "# 0. Env"
   ]
  },
  {
   "cell_type": "code",
   "execution_count": null,
   "id": "716c3464-9f6b-4be3-bf5c-5d97c4b0e99f",
   "metadata": {},
   "outputs": [],
   "source": [
    "import torch\n",
    "from diffusers import StableDiffusionPipeline, DPMSolverMultistepScheduler"
   ]
  },
  {
   "cell_type": "markdown",
   "id": "ba4222f4-cae7-4161-9ae1-cb5720a05402",
   "metadata": {
    "jp-MarkdownHeadingCollapsed": true
   },
   "source": [
    "# 1. Stable Diffusion"
   ]
  },
  {
   "cell_type": "code",
   "execution_count": null,
   "id": "02029dbe-b7c0-4faa-bb82-d7717f44fe09",
   "metadata": {},
   "outputs": [],
   "source": [
    "# model\n",
    "model_id = \"stabilityai/stable-diffusion-2-1\""
   ]
  },
  {
   "cell_type": "code",
   "execution_count": null,
   "id": "da0601af-d1db-4b68-bfa9-c3ed04bc251c",
   "metadata": {},
   "outputs": [],
   "source": [
    "# model 로딩\n",
    "pipe = StableDiffusionPipeline.from_pretrained(model_id, torch_dtype=torch.float16)\n",
    "pipe.scheduler = DPMSolverMultistepScheduler.from_config(pipe.scheduler.config)\n",
    "pipe = pipe.to(\"cuda\")"
   ]
  },
  {
   "cell_type": "code",
   "execution_count": null,
   "id": "d78fb876-a7c9-4d4a-9273-03e30af19815",
   "metadata": {},
   "outputs": [],
   "source": [
    "# 이미지 생성\n",
    "prompt = \"a photo of an astronaut riding a horse on mars\"\n",
    "image = pipe(prompt).images[0]\n",
    "image"
   ]
  },
  {
   "cell_type": "code",
   "execution_count": null,
   "id": "8290c378-058b-41b2-b7bf-d36626d0680c",
   "metadata": {},
   "outputs": [],
   "source": [
    "while True:\n",
    "    prompt = input('문장 > ')\n",
    "    prompt = prompt.strip()\n",
    "    if len(prompt) == 0:\n",
    "        break\n",
    "    image = pipe(prompt).images[0]\n",
    "    display(image)"
   ]
  },
  {
   "cell_type": "code",
   "execution_count": null,
   "id": "411935aa-4a21-46cd-bbc1-9338ba702e07",
   "metadata": {},
   "outputs": [],
   "source": []
  }
 ],
 "metadata": {
  "kernelspec": {
   "display_name": "Python 3 (ipykernel)",
   "language": "python",
   "name": "python3"
  },
  "language_info": {
   "codemirror_mode": {
    "name": "ipython",
    "version": 3
   },
   "file_extension": ".py",
   "mimetype": "text/x-python",
   "name": "python",
   "nbconvert_exporter": "python",
   "pygments_lexer": "ipython3",
   "version": "3.9.19"
  }
 },
 "nbformat": 4,
 "nbformat_minor": 5
}
