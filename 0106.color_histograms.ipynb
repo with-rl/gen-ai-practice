{
 "cells": [
  {
   "cell_type": "markdown",
   "metadata": {
    "jp-MarkdownHeadingCollapsed": true
   },
   "source": [
    "# 0. Env"
   ]
  },
  {
   "cell_type": "code",
   "execution_count": null,
   "metadata": {},
   "outputs": [],
   "source": [
    "from mecab import MeCab\n",
    "from base64 import b64decode\n",
    "import cv2\n",
    "import numpy as np\n",
    "\n",
    "from datasets import load_dataset\n",
    "\n",
    "import matplotlib.pyplot as plt"
   ]
  },
  {
   "cell_type": "markdown",
   "metadata": {
    "jp-MarkdownHeadingCollapsed": true
   },
   "source": [
    "# 1. Color Histogram\n",
    "- 참고: https://www.pinecone.io/learn/series/image-search/color-histograms/"
   ]
  },
  {
   "cell_type": "markdown",
   "metadata": {
    "jp-MarkdownHeadingCollapsed": true
   },
   "source": [
    "## 1.1. Processing"
   ]
  },
  {
   "cell_type": "code",
   "execution_count": null,
   "metadata": {},
   "outputs": [],
   "source": [
    "data = load_dataset('pinecone/image-set', split='train', revision='e7d39fc')"
   ]
  },
  {
   "cell_type": "code",
   "execution_count": null,
   "metadata": {},
   "outputs": [],
   "source": [
    "# 데이터 확인\n",
    "data"
   ]
  },
  {
   "cell_type": "code",
   "execution_count": null,
   "metadata": {},
   "outputs": [],
   "source": [
    "data[0]"
   ]
  },
  {
   "cell_type": "code",
   "execution_count": null,
   "metadata": {},
   "outputs": [],
   "source": [
    "# base64 to numpy array\n",
    "image_bytes = b64decode(data[0]['image_bytes'])\n",
    "image_bytes = np.frombuffer(image_bytes, np.uint8)\n",
    "image_bytes.shape"
   ]
  },
  {
   "cell_type": "code",
   "execution_count": null,
   "metadata": {},
   "outputs": [],
   "source": [
    "# decode encoded bgr_image\n",
    "bgr_image = cv2.imdecode(image_bytes, cv2.IMREAD_COLOR)\n",
    "bgr_image.shape"
   ]
  },
  {
   "cell_type": "code",
   "execution_count": null,
   "metadata": {},
   "outputs": [],
   "source": [
    "plt.imshow(bgr_image)"
   ]
  },
  {
   "cell_type": "code",
   "execution_count": null,
   "metadata": {},
   "outputs": [],
   "source": [
    "# BGR (OpenCV) -> RGB (matplotlib)\n",
    "rgb_image = np.flip(bgr_image, 2)\n",
    "plt.imshow(rgb_image)"
   ]
  },
  {
   "cell_type": "code",
   "execution_count": null,
   "metadata": {},
   "outputs": [],
   "source": [
    "# 이미지 변환 함수\n",
    "def process_fn(sample):\n",
    "    image_bytes = b64decode(sample['image_bytes'])\n",
    "    image_bytes = np.frombuffer(image_bytes, np.uint8)\n",
    "    bgr_image = cv2.imdecode(image_bytes, cv2.IMREAD_COLOR)\n",
    "    return bgr_image"
   ]
  },
  {
   "cell_type": "code",
   "execution_count": null,
   "metadata": {},
   "outputs": [],
   "source": [
    "# 전체 이미지 변환\n",
    "images = [process_fn(sample) for sample in data]"
   ]
  },
  {
   "cell_type": "code",
   "execution_count": null,
   "metadata": {},
   "outputs": [],
   "source": [
    "# 이미지 확인\n",
    "bgr_image = images[2]\n",
    "rgb_image = np.flip(bgr_image, 2)\n",
    "plt.imshow(rgb_image)\n",
    "plt.show()"
   ]
  },
  {
   "cell_type": "markdown",
   "metadata": {
    "jp-MarkdownHeadingCollapsed": true
   },
   "source": [
    "## 1.2. Gray Tutorial"
   ]
  },
  {
   "cell_type": "code",
   "execution_count": null,
   "metadata": {},
   "outputs": [],
   "source": [
    "# gray 이미지로 변환\n",
    "gray_image = cv2.cvtColor(images[0], cv2.COLOR_BGR2GRAY)\n",
    "plt.imshow(gray_image, cmap='gray')\n",
    "plt.axis('off')\n",
    "plt.show()"
   ]
  },
  {
   "cell_type": "code",
   "execution_count": null,
   "metadata": {},
   "outputs": [],
   "source": [
    "gray_image.shape"
   ]
  },
  {
   "cell_type": "code",
   "execution_count": null,
   "metadata": {},
   "outputs": [],
   "source": [
    "# 256 bins histogram\n",
    "hist, _ = np.histogram(gray_image, 256, [0, 256])\n",
    "plt.plot(hist, 'r')\n",
    "plt.show()"
   ]
  },
  {
   "cell_type": "code",
   "execution_count": null,
   "metadata": {},
   "outputs": [],
   "source": [
    "# 128 bins histogram\n",
    "hist, _ = np.histogram(gray_image, 128, [0, 256])\n",
    "plt.plot(hist, 'g')\n",
    "plt.show()"
   ]
  },
  {
   "cell_type": "code",
   "execution_count": null,
   "metadata": {},
   "outputs": [],
   "source": [
    "# 64 bins histogram\n",
    "hist, _ = np.histogram(gray_image, 64, [0, 256])\n",
    "plt.plot(hist, 'b')\n",
    "plt.show()"
   ]
  },
  {
   "cell_type": "markdown",
   "metadata": {
    "jp-MarkdownHeadingCollapsed": true
   },
   "source": [
    "## 1.3. Color Tutorial"
   ]
  },
  {
   "cell_type": "code",
   "execution_count": null,
   "metadata": {},
   "outputs": [],
   "source": [
    "# rgb 이미지로 변환\n",
    "rgb_image = cv2.cvtColor(images[0], cv2.COLOR_BGR2RGB)\n",
    "plt.imshow(rgb_image)\n",
    "plt.axis('off')\n",
    "plt.show()"
   ]
  },
  {
   "cell_type": "code",
   "execution_count": null,
   "metadata": {},
   "outputs": [],
   "source": [
    "rgb_image.shape"
   ]
  },
  {
   "cell_type": "code",
   "execution_count": null,
   "metadata": {},
   "outputs": [],
   "source": [
    "# r, g, b 분리\n",
    "red_image = rgb_image[:, :, 0]\n",
    "green_image = rgb_image[:, :, 1]\n",
    "blue_image = rgb_image[:, :, 2]\n",
    "\n",
    "red_image.shape, green_image.shape, blue_image.shape"
   ]
  },
  {
   "cell_type": "code",
   "execution_count": null,
   "metadata": {},
   "outputs": [],
   "source": [
    "# 256 bins histogram\n",
    "red_hist, _ = np.histogram(red_image, 256, [0, 256])\n",
    "plt.plot(red_hist, 'r')\n",
    "green_hist, _ = np.histogram(green_image, 256, [0, 256])\n",
    "plt.plot(green_hist, 'g')\n",
    "blue_hist, _ = np.histogram(blue_image, 256, [0, 256])\n",
    "plt.plot(blue_hist, 'b')\n",
    "plt.show()"
   ]
  },
  {
   "cell_type": "code",
   "execution_count": null,
   "metadata": {},
   "outputs": [],
   "source": [
    "# 128 bins histogram\n",
    "red_hist, _ = np.histogram(red_image, 128, [0, 256])\n",
    "plt.plot(red_hist, 'r')\n",
    "green_hist, _ = np.histogram(green_image, 128, [0, 256])\n",
    "plt.plot(green_hist, 'g')\n",
    "blue_hist, _ = np.histogram(blue_image, 128, [0, 256])\n",
    "plt.plot(blue_hist, 'b')\n",
    "plt.show()"
   ]
  },
  {
   "cell_type": "code",
   "execution_count": null,
   "metadata": {},
   "outputs": [],
   "source": [
    "# 64 bins histogram\n",
    "red_hist, _ = np.histogram(red_image, 64, [0, 256])\n",
    "plt.plot(red_hist, 'r')\n",
    "green_hist, _ = np.histogram(green_image, 64, [0, 256])\n",
    "plt.plot(green_hist, 'g')\n",
    "blue_hist, _ = np.histogram(blue_image, 64, [0, 256])\n",
    "plt.plot(blue_hist, 'b')\n",
    "plt.show()"
   ]
  },
  {
   "cell_type": "code",
   "execution_count": null,
   "metadata": {},
   "outputs": [],
   "source": [
    "# 64 bins histogram\n",
    "red_hist, _ = np.histogram(red_image, 64, [0, 256])\n",
    "green_hist, _ = np.histogram(green_image, 64, [0, 256])\n",
    "blue_hist, _ = np.histogram(blue_image, 64, [0, 256])\n",
    "hist = np.concatenate([red_hist, green_hist, blue_hist], axis=0)\n",
    "plt.plot(hist, 'k')\n",
    "plt.show()"
   ]
  },
  {
   "cell_type": "markdown",
   "metadata": {
    "jp-MarkdownHeadingCollapsed": true
   },
   "source": [
    "## 1.4. Histogram Search"
   ]
  },
  {
   "cell_type": "code",
   "execution_count": null,
   "metadata": {},
   "outputs": [],
   "source": [
    "def get_histogram_vector(bgr_image, bins=256):\n",
    "    # B, G, R\n",
    "    blue_image = bgr_image[:, :, 0]\n",
    "    green_image = bgr_image[:, :, 1]\n",
    "    red_image = bgr_image[:, :, 2]\n",
    "    # R, G, B histogram\n",
    "    red_hist, _ = np.histogram(red_image, bins, [0, 256])\n",
    "    green_hist, _ = np.histogram(green_image, bins, [0, 256])\n",
    "    blue_hist, _ = np.histogram(blue_image, bins, [0, 256])\n",
    "    hist = np.concatenate([red_hist, green_hist, blue_hist], axis=0)\n",
    "    return hist"
   ]
  },
  {
   "cell_type": "code",
   "execution_count": null,
   "metadata": {},
   "outputs": [],
   "source": [
    "# 0번째 이미지\n",
    "plt.imshow(cv2.cvtColor(images[0], cv2.COLOR_BGR2RGB))\n",
    "plt.show()\n",
    "\n",
    "hist = get_histogram_vector(images[0], bins=64)\n",
    "plt.plot(hist, 'k')\n",
    "plt.show()"
   ]
  },
  {
   "cell_type": "code",
   "execution_count": null,
   "metadata": {},
   "outputs": [],
   "source": [
    "# 1번째 이미지\n",
    "plt.imshow(cv2.cvtColor(images[1], cv2.COLOR_BGR2RGB))\n",
    "plt.show()\n",
    "\n",
    "hist = get_histogram_vector(images[1], bins=64)\n",
    "plt.plot(hist, 'k')\n",
    "plt.show()"
   ]
  },
  {
   "cell_type": "code",
   "execution_count": null,
   "metadata": {},
   "outputs": [],
   "source": [
    "# 2번째 이미지\n",
    "plt.imshow(cv2.cvtColor(images[2], cv2.COLOR_BGR2RGB))\n",
    "plt.show()\n",
    "\n",
    "hist = get_histogram_vector(images[2], bins=64)\n",
    "plt.plot(hist, 'k')\n",
    "plt.show()"
   ]
  },
  {
   "cell_type": "code",
   "execution_count": null,
   "metadata": {},
   "outputs": [],
   "source": [
    "# 5번째 이미지\n",
    "plt.imshow(cv2.cvtColor(images[5], cv2.COLOR_BGR2RGB))\n",
    "plt.show()\n",
    "\n",
    "hist = get_histogram_vector(images[5], bins=64)\n",
    "plt.plot(hist, 'k')\n",
    "plt.show()"
   ]
  },
  {
   "cell_type": "code",
   "execution_count": null,
   "metadata": {},
   "outputs": [],
   "source": [
    "# make all images to vector\n",
    "image_vectors = []\n",
    "for image in images:\n",
    "    image_vectors.append(get_histogram_vector(image, bins=64))"
   ]
  },
  {
   "cell_type": "code",
   "execution_count": null,
   "metadata": {},
   "outputs": [],
   "source": [
    "# cosone 유사도 비교\n",
    "def cosine_sim(a, b):\n",
    "    return np.dot(a, b) / (np.linalg.norm(a) * np.linalg.norm(b))"
   ]
  },
  {
   "cell_type": "code",
   "execution_count": null,
   "metadata": {},
   "outputs": [],
   "source": [
    "# 검색할 벡터\n",
    "idx = 0\n",
    "query_vector = image_vectors[idx]\n",
    "\n",
    "# cosine 유사도 계산\n",
    "scores = np.zeros(len(image_vectors))\n",
    "for i, vector in enumerate(image_vectors):\n",
    "    scores[i] = cosine_sim(query_vector, vector)\n",
    "scores"
   ]
  },
  {
   "cell_type": "code",
   "execution_count": null,
   "metadata": {},
   "outputs": [],
   "source": [
    "# 높은 스코어 부터 정렬\n",
    "rank = np.argsort(-scores)\n",
    "rank"
   ]
  },
  {
   "cell_type": "code",
   "execution_count": null,
   "metadata": {},
   "outputs": [],
   "source": [
    "print(\"query image\")\n",
    "query_image = np.flip(images[idx], 2)\n",
    "plt.imshow(query_image)\n",
    "plt.show()\n",
    "# 상위 top_n 개 출력\n",
    "for i in rank[:5]:\n",
    "    print(f\"rank {i} image: {scores[i]}\")\n",
    "    query_image = np.flip(images[i], 2)\n",
    "    plt.imshow(query_image)\n",
    "    plt.show()\n",
    "    \n",
    "    plt.plot(query_vector, 'r', label='query')\n",
    "    plt.plot(image_vectors[i], 'g', label='image')\n",
    "    plt.legend()\n",
    "    plt.show()"
   ]
  },
  {
   "cell_type": "code",
   "execution_count": null,
   "metadata": {},
   "outputs": [],
   "source": []
  }
 ],
 "metadata": {
  "kernelspec": {
   "display_name": "Python 3 (ipykernel)",
   "language": "python",
   "name": "python3"
  },
  "language_info": {
   "codemirror_mode": {
    "name": "ipython",
    "version": 3
   },
   "file_extension": ".py",
   "mimetype": "text/x-python",
   "name": "python",
   "nbconvert_exporter": "python",
   "pygments_lexer": "ipython3",
   "version": "3.9.19"
  }
 },
 "nbformat": 4,
 "nbformat_minor": 4
}
